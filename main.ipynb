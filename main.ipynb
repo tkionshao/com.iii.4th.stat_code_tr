{
 "cells": [
  {
   "cell_type": "code",
   "execution_count": 215,
   "metadata": {},
   "outputs": [],
   "source": [
    "import pandas as pd\n",
    "from math import cos"
   ]
  },
  {
   "cell_type": "markdown",
   "metadata": {},
   "source": [
    "# Function"
   ]
  },
  {
   "cell_type": "code",
   "execution_count": 234,
   "metadata": {},
   "outputs": [],
   "source": [
    "def stat_code_compute(x):\n",
    "    scale_km = 0.5\n",
    "    lat = x[6]\n",
    "    lon = x[7]\n",
    "    lat_to_km = lat*110.574\n",
    "    lon_to_km = lon*(111.320*cos(lat))\n",
    "\n",
    "    state_code_x = int(lat_to_km//scale_km)\n",
    "    state_code_y = int(lon_to_km//scale_km)\n",
    "    state_code = str(state_code_x)+str(state_code_y)\n",
    "    return state_code"
   ]
  },
  {
   "cell_type": "markdown",
   "metadata": {},
   "source": [
    "# Pandas"
   ]
  },
  {
   "cell_type": "code",
   "execution_count": 110,
   "metadata": {},
   "outputs": [
    {
     "data": {
      "text/plain": [
       "pandas.core.frame.DataFrame"
      ]
     },
     "execution_count": 110,
     "metadata": {},
     "output_type": "execute_result"
    }
   ],
   "source": [
    "rst = pd.read_csv('restaurant_2018_06_22.csv')\n",
    "type(rst)"
   ]
  },
  {
   "cell_type": "code",
   "execution_count": 9,
   "metadata": {},
   "outputs": [
    {
     "data": {
      "text/html": [
       "<div>\n",
       "<style scoped>\n",
       "    .dataframe tbody tr th:only-of-type {\n",
       "        vertical-align: middle;\n",
       "    }\n",
       "\n",
       "    .dataframe tbody tr th {\n",
       "        vertical-align: top;\n",
       "    }\n",
       "\n",
       "    .dataframe thead th {\n",
       "        text-align: right;\n",
       "    }\n",
       "</style>\n",
       "<table border=\"1\" class=\"dataframe\">\n",
       "  <thead>\n",
       "    <tr style=\"text-align: right;\">\n",
       "      <th></th>\n",
       "      <th>name</th>\n",
       "      <th>status</th>\n",
       "      <th>Address</th>\n",
       "      <th>type_one</th>\n",
       "      <th>type_two</th>\n",
       "      <th>price</th>\n",
       "      <th>lat</th>\n",
       "      <th>lon</th>\n",
       "    </tr>\n",
       "  </thead>\n",
       "  <tbody>\n",
       "    <tr>\n",
       "      <th>0</th>\n",
       "      <td>京都日式涮涮鍋</td>\n",
       "      <td>已歇業</td>\n",
       "      <td>台北市松山區敦化北路244巷34號之B</td>\n",
       "      <td>鍋類</td>\n",
       "      <td>涮涮鍋</td>\n",
       "      <td>NaN</td>\n",
       "      <td>25.060937</td>\n",
       "      <td>121.547772</td>\n",
       "    </tr>\n",
       "    <tr>\n",
       "      <th>1</th>\n",
       "      <td>享樂烘焙(中山旗艦店)</td>\n",
       "      <td>已歇業</td>\n",
       "      <td>台北市中山區中山北路2段77之1號</td>\n",
       "      <td>烘焙、甜點、零食</td>\n",
       "      <td>西點烘焙、麵包</td>\n",
       "      <td>NaN</td>\n",
       "      <td>25.057621</td>\n",
       "      <td>121.523086</td>\n",
       "    </tr>\n",
       "    <tr>\n",
       "      <th>2</th>\n",
       "      <td>福珍真味涮涮鍋</td>\n",
       "      <td>營業中</td>\n",
       "      <td>台北市信義區忠孝東路五段505號</td>\n",
       "      <td>鍋類</td>\n",
       "      <td>涮涮鍋</td>\n",
       "      <td>NaN</td>\n",
       "      <td>25.041532</td>\n",
       "      <td>121.578637</td>\n",
       "    </tr>\n",
       "    <tr>\n",
       "      <th>3</th>\n",
       "      <td>武藏 大眾食堂(伊通店)</td>\n",
       "      <td>營業中</td>\n",
       "      <td>台北市中山區伊通街52巷6號</td>\n",
       "      <td>日式料理</td>\n",
       "      <td>綜合日式料理</td>\n",
       "      <td>160.0</td>\n",
       "      <td>25.051292</td>\n",
       "      <td>121.534340</td>\n",
       "    </tr>\n",
       "    <tr>\n",
       "      <th>4</th>\n",
       "      <td>上佳香菇肉粥</td>\n",
       "      <td>已歇業</td>\n",
       "      <td>台北市大同區民生西路198之3號</td>\n",
       "      <td>中式料理</td>\n",
       "      <td>其它中式料理</td>\n",
       "      <td>NaN</td>\n",
       "      <td>25.057032</td>\n",
       "      <td>121.516825</td>\n",
       "    </tr>\n",
       "  </tbody>\n",
       "</table>\n",
       "</div>"
      ],
      "text/plain": [
       "           name status              Address  type_one type_two  price  \\\n",
       "0       京都日式涮涮鍋    已歇業  台北市松山區敦化北路244巷34號之B        鍋類      涮涮鍋    NaN   \n",
       "1   享樂烘焙(中山旗艦店)    已歇業    台北市中山區中山北路2段77之1號  烘焙、甜點、零食  西點烘焙、麵包    NaN   \n",
       "2       福珍真味涮涮鍋    營業中     台北市信義區忠孝東路五段505號        鍋類      涮涮鍋    NaN   \n",
       "3  武藏 大眾食堂(伊通店)    營業中       台北市中山區伊通街52巷6號      日式料理   綜合日式料理  160.0   \n",
       "4        上佳香菇肉粥    已歇業     台北市大同區民生西路198之3號      中式料理   其它中式料理    NaN   \n",
       "\n",
       "         lat         lon  \n",
       "0  25.060937  121.547772  \n",
       "1  25.057621  121.523086  \n",
       "2  25.041532  121.578637  \n",
       "3  25.051292  121.534340  \n",
       "4  25.057032  121.516825  "
      ]
     },
     "execution_count": 9,
     "metadata": {},
     "output_type": "execute_result"
    }
   ],
   "source": [
    "rst.head()"
   ]
  },
  {
   "cell_type": "code",
   "execution_count": 13,
   "metadata": {},
   "outputs": [
    {
     "data": {
      "text/plain": [
       "pandas.core.series.Series"
      ]
     },
     "execution_count": 13,
     "metadata": {},
     "output_type": "execute_result"
    }
   ],
   "source": [
    "price = rst['price'].head()\n",
    "type(price)"
   ]
  },
  {
   "cell_type": "code",
   "execution_count": 20,
   "metadata": {},
   "outputs": [],
   "source": [
    "name = rst['name']"
   ]
  },
  {
   "cell_type": "code",
   "execution_count": 26,
   "metadata": {
    "scrolled": true
   },
   "outputs": [
    {
     "data": {
      "text/plain": [
       "Index(['name', 'status', 'Address', 'type_one', 'type_two', 'price', 'lat',\n",
       "       'lon'],\n",
       "      dtype='object')"
      ]
     },
     "execution_count": 26,
     "metadata": {},
     "output_type": "execute_result"
    }
   ],
   "source": [
    "rst.columns"
   ]
  },
  {
   "cell_type": "code",
   "execution_count": 27,
   "metadata": {
    "scrolled": true
   },
   "outputs": [
    {
     "data": {
      "text/plain": [
       "(36915, 8)"
      ]
     },
     "execution_count": 27,
     "metadata": {},
     "output_type": "execute_result"
    }
   ],
   "source": [
    "rst.shape"
   ]
  },
  {
   "cell_type": "code",
   "execution_count": 58,
   "metadata": {
    "scrolled": false
   },
   "outputs": [
    {
     "data": {
      "text/html": [
       "<div>\n",
       "<style scoped>\n",
       "    .dataframe tbody tr th:only-of-type {\n",
       "        vertical-align: middle;\n",
       "    }\n",
       "\n",
       "    .dataframe tbody tr th {\n",
       "        vertical-align: top;\n",
       "    }\n",
       "\n",
       "    .dataframe thead th {\n",
       "        text-align: right;\n",
       "    }\n",
       "</style>\n",
       "<table border=\"1\" class=\"dataframe\">\n",
       "  <thead>\n",
       "    <tr style=\"text-align: right;\">\n",
       "      <th></th>\n",
       "      <th>price</th>\n",
       "      <th>lat</th>\n",
       "      <th>lon</th>\n",
       "    </tr>\n",
       "  </thead>\n",
       "  <tbody>\n",
       "    <tr>\n",
       "      <th>count</th>\n",
       "      <td>2.258500e+04</td>\n",
       "      <td>36915.000000</td>\n",
       "      <td>36915.000000</td>\n",
       "    </tr>\n",
       "    <tr>\n",
       "      <th>mean</th>\n",
       "      <td>5.966554e+04</td>\n",
       "      <td>24.919753</td>\n",
       "      <td>120.864366</td>\n",
       "    </tr>\n",
       "    <tr>\n",
       "      <th>std</th>\n",
       "      <td>6.696837e+06</td>\n",
       "      <td>1.807284</td>\n",
       "      <td>9.022171</td>\n",
       "    </tr>\n",
       "    <tr>\n",
       "      <th>min</th>\n",
       "      <td>1.200000e+01</td>\n",
       "      <td>0.000000</td>\n",
       "      <td>0.000000</td>\n",
       "    </tr>\n",
       "    <tr>\n",
       "      <th>25%</th>\n",
       "      <td>8.500000e+01</td>\n",
       "      <td>25.035897</td>\n",
       "      <td>121.523590</td>\n",
       "    </tr>\n",
       "    <tr>\n",
       "      <th>50%</th>\n",
       "      <td>1.750000e+02</td>\n",
       "      <td>25.046328</td>\n",
       "      <td>121.541916</td>\n",
       "    </tr>\n",
       "    <tr>\n",
       "      <th>75%</th>\n",
       "      <td>3.480000e+02</td>\n",
       "      <td>25.060364</td>\n",
       "      <td>121.556591</td>\n",
       "    </tr>\n",
       "    <tr>\n",
       "      <th>max</th>\n",
       "      <td>9.101920e+08</td>\n",
       "      <td>31.241043</td>\n",
       "      <td>129.614983</td>\n",
       "    </tr>\n",
       "  </tbody>\n",
       "</table>\n",
       "</div>"
      ],
      "text/plain": [
       "              price           lat           lon\n",
       "count  2.258500e+04  36915.000000  36915.000000\n",
       "mean   5.966554e+04     24.919753    120.864366\n",
       "std    6.696837e+06      1.807284      9.022171\n",
       "min    1.200000e+01      0.000000      0.000000\n",
       "25%    8.500000e+01     25.035897    121.523590\n",
       "50%    1.750000e+02     25.046328    121.541916\n",
       "75%    3.480000e+02     25.060364    121.556591\n",
       "max    9.101920e+08     31.241043    129.614983"
      ]
     },
     "execution_count": 58,
     "metadata": {},
     "output_type": "execute_result"
    }
   ],
   "source": [
    "rst.describe()"
   ]
  },
  {
   "cell_type": "code",
   "execution_count": 59,
   "metadata": {
    "scrolled": true
   },
   "outputs": [
    {
     "name": "stdout",
     "output_type": "stream",
     "text": [
      "<class 'pandas.core.frame.DataFrame'>\n",
      "RangeIndex: 36915 entries, 0 to 36914\n",
      "Data columns (total 8 columns):\n",
      "name        36915 non-null object\n",
      "status      36915 non-null object\n",
      "Address     36915 non-null object\n",
      "type_one    36893 non-null object\n",
      "type_two    36893 non-null object\n",
      "price       22585 non-null float64\n",
      "lat         36915 non-null float64\n",
      "lon         36915 non-null float64\n",
      "dtypes: float64(3), object(5)\n",
      "memory usage: 2.3+ MB\n"
     ]
    }
   ],
   "source": [
    "rst.info()"
   ]
  },
  {
   "cell_type": "code",
   "execution_count": 37,
   "metadata": {
    "scrolled": true
   },
   "outputs": [
    {
     "data": {
      "text/html": [
       "<div>\n",
       "<style scoped>\n",
       "    .dataframe tbody tr th:only-of-type {\n",
       "        vertical-align: middle;\n",
       "    }\n",
       "\n",
       "    .dataframe tbody tr th {\n",
       "        vertical-align: top;\n",
       "    }\n",
       "\n",
       "    .dataframe thead th {\n",
       "        text-align: right;\n",
       "    }\n",
       "</style>\n",
       "<table border=\"1\" class=\"dataframe\">\n",
       "  <thead>\n",
       "    <tr style=\"text-align: right;\">\n",
       "      <th></th>\n",
       "      <th>name</th>\n",
       "      <th>status</th>\n",
       "      <th>Address</th>\n",
       "      <th>type_one</th>\n",
       "      <th>type_two</th>\n",
       "      <th>price</th>\n",
       "      <th>lat</th>\n",
       "      <th>lon</th>\n",
       "    </tr>\n",
       "  </thead>\n",
       "  <tbody>\n",
       "    <tr>\n",
       "      <th>8097</th>\n",
       "      <td>專業老酒收購台北0910-192300(老酒收購0910-192300林先生)</td>\n",
       "      <td>營業中</td>\n",
       "      <td>台北市南港區中正路0910192300號</td>\n",
       "      <td>咖啡、簡餐、茶</td>\n",
       "      <td>複合式</td>\n",
       "      <td>910192000.0</td>\n",
       "      <td>25.069193</td>\n",
       "      <td>121.659380</td>\n",
       "    </tr>\n",
       "    <tr>\n",
       "      <th>4370</th>\n",
       "      <td>電商咖啡(信義吳興店)</td>\n",
       "      <td>已歇業</td>\n",
       "      <td>台北市信義區吳興街85號</td>\n",
       "      <td>咖啡、簡餐、茶</td>\n",
       "      <td>複合式</td>\n",
       "      <td>429497000.0</td>\n",
       "      <td>25.030703</td>\n",
       "      <td>121.560767</td>\n",
       "    </tr>\n",
       "    <tr>\n",
       "      <th>30495</th>\n",
       "      <td>咖啡癮</td>\n",
       "      <td>營業中</td>\n",
       "      <td>台北市中正區羅斯福路二段34號2樓</td>\n",
       "      <td>烘焙、甜點、零食</td>\n",
       "      <td>西點烘焙、麵包</td>\n",
       "      <td>1398180.0</td>\n",
       "      <td>25.028374</td>\n",
       "      <td>121.521188</td>\n",
       "    </tr>\n",
       "    <tr>\n",
       "      <th>31453</th>\n",
       "      <td>鴉埠咖啡Yaboo</td>\n",
       "      <td>營業中</td>\n",
       "      <td>台北市大安區永康街41巷26號</td>\n",
       "      <td>咖啡、簡餐、茶</td>\n",
       "      <td>咖啡專賣</td>\n",
       "      <td>66849.0</td>\n",
       "      <td>25.030422</td>\n",
       "      <td>121.530585</td>\n",
       "    </tr>\n",
       "    <tr>\n",
       "      <th>1405</th>\n",
       "      <td>鑽石牛排屋 Diamond Steak &amp; Café</td>\n",
       "      <td>已歇業</td>\n",
       "      <td>台北市松山區敦化南路一段233巷65號</td>\n",
       "      <td>異國料理</td>\n",
       "      <td>美式料理</td>\n",
       "      <td>10500.0</td>\n",
       "      <td>25.040372</td>\n",
       "      <td>121.552800</td>\n",
       "    </tr>\n",
       "  </tbody>\n",
       "</table>\n",
       "</div>"
      ],
      "text/plain": [
       "                                          name status               Address  \\\n",
       "8097   專業老酒收購台北0910-192300(老酒收購0910-192300林先生)    營業中  台北市南港區中正路0910192300號   \n",
       "4370                               電商咖啡(信義吳興店)    已歇業          台北市信義區吳興街85號   \n",
       "30495                                      咖啡癮    營業中     台北市中正區羅斯福路二段34號2樓   \n",
       "31453                                鴉埠咖啡Yaboo    營業中       台北市大安區永康街41巷26號   \n",
       "1405                鑽石牛排屋 Diamond Steak & Café    已歇業   台北市松山區敦化南路一段233巷65號   \n",
       "\n",
       "       type_one type_two        price        lat         lon  \n",
       "8097    咖啡、簡餐、茶      複合式  910192000.0  25.069193  121.659380  \n",
       "4370    咖啡、簡餐、茶      複合式  429497000.0  25.030703  121.560767  \n",
       "30495  烘焙、甜點、零食  西點烘焙、麵包    1398180.0  25.028374  121.521188  \n",
       "31453   咖啡、簡餐、茶     咖啡專賣      66849.0  25.030422  121.530585  \n",
       "1405       異國料理     美式料理      10500.0  25.040372  121.552800  "
      ]
     },
     "execution_count": 37,
     "metadata": {},
     "output_type": "execute_result"
    }
   ],
   "source": [
    "rst.sort_values(by='price',ascending=False).head()"
   ]
  },
  {
   "cell_type": "code",
   "execution_count": 54,
   "metadata": {
    "scrolled": false
   },
   "outputs": [
    {
     "data": {
      "text/plain": [
       "pandas.core.series.Series"
      ]
     },
     "execution_count": 54,
     "metadata": {},
     "output_type": "execute_result"
    }
   ],
   "source": [
    "qry = rst[10:21]['Address']\n",
    "type(qry)"
   ]
  },
  {
   "cell_type": "code",
   "execution_count": 60,
   "metadata": {},
   "outputs": [
    {
     "data": {
      "text/html": [
       "<div>\n",
       "<style scoped>\n",
       "    .dataframe tbody tr th:only-of-type {\n",
       "        vertical-align: middle;\n",
       "    }\n",
       "\n",
       "    .dataframe tbody tr th {\n",
       "        vertical-align: top;\n",
       "    }\n",
       "\n",
       "    .dataframe thead th {\n",
       "        text-align: right;\n",
       "    }\n",
       "</style>\n",
       "<table border=\"1\" class=\"dataframe\">\n",
       "  <thead>\n",
       "    <tr style=\"text-align: right;\">\n",
       "      <th></th>\n",
       "      <th>name</th>\n",
       "      <th>status</th>\n",
       "      <th>Address</th>\n",
       "      <th>type_one</th>\n",
       "      <th>type_two</th>\n",
       "      <th>price</th>\n",
       "      <th>lat</th>\n",
       "      <th>lon</th>\n",
       "    </tr>\n",
       "  </thead>\n",
       "  <tbody>\n",
       "    <tr>\n",
       "      <th>3</th>\n",
       "      <td>武藏 大眾食堂(伊通店)</td>\n",
       "      <td>營業中</td>\n",
       "      <td>台北市中山區伊通街52巷6號</td>\n",
       "      <td>日式料理</td>\n",
       "      <td>綜合日式料理</td>\n",
       "      <td>160.0</td>\n",
       "      <td>25.051292</td>\n",
       "      <td>121.534340</td>\n",
       "    </tr>\n",
       "    <tr>\n",
       "      <th>8</th>\n",
       "      <td>Xai Xing dé 耍性子</td>\n",
       "      <td>營業中</td>\n",
       "      <td>台北市大安區仁愛路四段228-2號</td>\n",
       "      <td>異國料理</td>\n",
       "      <td>美式料理</td>\n",
       "      <td>165.0</td>\n",
       "      <td>25.037451</td>\n",
       "      <td>121.551716</td>\n",
       "    </tr>\n",
       "    <tr>\n",
       "      <th>16</th>\n",
       "      <td>Stone Age Bar &amp; Grill 石器時代主題餐廳</td>\n",
       "      <td>營業中</td>\n",
       "      <td>台北市萬華區武昌街二段85號</td>\n",
       "      <td>異國料理</td>\n",
       "      <td>墨西哥料理</td>\n",
       "      <td>109.0</td>\n",
       "      <td>25.045304</td>\n",
       "      <td>121.504868</td>\n",
       "    </tr>\n",
       "    <tr>\n",
       "      <th>33</th>\n",
       "      <td>Mr.Martin's Kitchen 馬丁廚房工作室</td>\n",
       "      <td>營業中</td>\n",
       "      <td>台北市大安區新生南路三段76巷12弄10之5號</td>\n",
       "      <td>烘焙、甜點、零食</td>\n",
       "      <td>西點烘焙、麵包</td>\n",
       "      <td>148.0</td>\n",
       "      <td>25.019389</td>\n",
       "      <td>121.533058</td>\n",
       "    </tr>\n",
       "    <tr>\n",
       "      <th>34</th>\n",
       "      <td>魔力小樂</td>\n",
       "      <td>營業中</td>\n",
       "      <td>台北市文山區保儀路26巷9號</td>\n",
       "      <td>咖啡、簡餐、茶</td>\n",
       "      <td>咖啡專賣</td>\n",
       "      <td>113.0</td>\n",
       "      <td>24.988345</td>\n",
       "      <td>121.568658</td>\n",
       "    </tr>\n",
       "    <tr>\n",
       "      <th>44</th>\n",
       "      <td>Å Cafe&amp;Crystal</td>\n",
       "      <td>已歇業</td>\n",
       "      <td>台北市大安區仁愛路四段300巷26弄31號</td>\n",
       "      <td>咖啡、簡餐、茶</td>\n",
       "      <td>咖啡專賣</td>\n",
       "      <td>140.0</td>\n",
       "      <td>25.036138</td>\n",
       "      <td>121.553195</td>\n",
       "    </tr>\n",
       "    <tr>\n",
       "      <th>45</th>\n",
       "      <td>九樂新南洋麵食(士林店)</td>\n",
       "      <td>已歇業</td>\n",
       "      <td>台北市士林區基河路301號</td>\n",
       "      <td>亞洲料理</td>\n",
       "      <td>綜合南洋料理</td>\n",
       "      <td>162.0</td>\n",
       "      <td>25.097540</td>\n",
       "      <td>121.514218</td>\n",
       "    </tr>\n",
       "    <tr>\n",
       "      <th>67</th>\n",
       "      <td>梨園小吃店</td>\n",
       "      <td>營業中</td>\n",
       "      <td>台北市萬華區 中華路一段114巷2號</td>\n",
       "      <td>小吃</td>\n",
       "      <td>其他小吃</td>\n",
       "      <td>123.0</td>\n",
       "      <td>25.043793</td>\n",
       "      <td>121.508135</td>\n",
       "    </tr>\n",
       "    <tr>\n",
       "      <th>76</th>\n",
       "      <td>飯樂丼 Fun Rice(信義店)</td>\n",
       "      <td>營業中</td>\n",
       "      <td>台北市信義區松壽路20號2樓</td>\n",
       "      <td>日式料理</td>\n",
       "      <td>綜合日式料理</td>\n",
       "      <td>160.0</td>\n",
       "      <td>25.035636</td>\n",
       "      <td>121.567099</td>\n",
       "    </tr>\n",
       "    <tr>\n",
       "      <th>86</th>\n",
       "      <td>老熊味湯包館</td>\n",
       "      <td>已歇業</td>\n",
       "      <td>台北市信義區基隆路一段147巷9號1樓</td>\n",
       "      <td>中式料理</td>\n",
       "      <td>上海菜(江浙菜)</td>\n",
       "      <td>120.0</td>\n",
       "      <td>25.042525</td>\n",
       "      <td>121.566225</td>\n",
       "    </tr>\n",
       "    <tr>\n",
       "      <th>102</th>\n",
       "      <td>哲麵</td>\n",
       "      <td>已歇業</td>\n",
       "      <td>台北市萬華區漢中街116號</td>\n",
       "      <td>日式料理</td>\n",
       "      <td>日式麵食專賣</td>\n",
       "      <td>130.0</td>\n",
       "      <td>25.043025</td>\n",
       "      <td>121.507352</td>\n",
       "    </tr>\n",
       "    <tr>\n",
       "      <th>119</th>\n",
       "      <td>櫻五鐵板燒</td>\n",
       "      <td>營業中</td>\n",
       "      <td>台北市北投區中和街45號</td>\n",
       "      <td>中式料理</td>\n",
       "      <td>其它中式料理</td>\n",
       "      <td>180.0</td>\n",
       "      <td>25.138261</td>\n",
       "      <td>121.502439</td>\n",
       "    </tr>\n",
       "    <tr>\n",
       "      <th>133</th>\n",
       "      <td>唯樂漢堡 Winner Burger</td>\n",
       "      <td>營業中</td>\n",
       "      <td>台北市中山區復興北路514巷36號</td>\n",
       "      <td>早餐</td>\n",
       "      <td>西式早餐</td>\n",
       "      <td>122.0</td>\n",
       "      <td>25.065925</td>\n",
       "      <td>121.542465</td>\n",
       "    </tr>\n",
       "    <tr>\n",
       "      <th>136</th>\n",
       "      <td>澳客炙燒牛排</td>\n",
       "      <td>營業中</td>\n",
       "      <td>台北市大安區臨江街99-1號</td>\n",
       "      <td>異國料理</td>\n",
       "      <td>美式料理</td>\n",
       "      <td>159.0</td>\n",
       "      <td>25.030256</td>\n",
       "      <td>121.554552</td>\n",
       "    </tr>\n",
       "    <tr>\n",
       "      <th>144</th>\n",
       "      <td>大葉高島屋美食街</td>\n",
       "      <td>營業中</td>\n",
       "      <td>台北市士林區忠誠路二段55號</td>\n",
       "      <td>其他美食</td>\n",
       "      <td>其他美食</td>\n",
       "      <td>139.0</td>\n",
       "      <td>25.111857</td>\n",
       "      <td>121.531367</td>\n",
       "    </tr>\n",
       "    <tr>\n",
       "      <th>149</th>\n",
       "      <td>貳貳泰式料理 Tuk Tuk Thai Combo Food</td>\n",
       "      <td>已歇業</td>\n",
       "      <td>台北市士林區大南路81號</td>\n",
       "      <td>亞洲料理</td>\n",
       "      <td>泰式料理</td>\n",
       "      <td>179.0</td>\n",
       "      <td>25.089264</td>\n",
       "      <td>121.524335</td>\n",
       "    </tr>\n",
       "    <tr>\n",
       "      <th>152</th>\n",
       "      <td>MR. TKK</td>\n",
       "      <td>營業中</td>\n",
       "      <td>台北市中正區南昌路二段3號</td>\n",
       "      <td>咖啡、簡餐、茶</td>\n",
       "      <td>複合式</td>\n",
       "      <td>161.0</td>\n",
       "      <td>25.028675</td>\n",
       "      <td>121.519262</td>\n",
       "    </tr>\n",
       "    <tr>\n",
       "      <th>169</th>\n",
       "      <td>TitaCafe</td>\n",
       "      <td>營業中</td>\n",
       "      <td>台北市文山區指南路二段72號</td>\n",
       "      <td>咖啡、簡餐、茶</td>\n",
       "      <td>複合式</td>\n",
       "      <td>108.0</td>\n",
       "      <td>24.986776</td>\n",
       "      <td>121.578589</td>\n",
       "    </tr>\n",
       "    <tr>\n",
       "      <th>171</th>\n",
       "      <td>The Aroma 馨香堂</td>\n",
       "      <td>營業中</td>\n",
       "      <td>台北市萬華區漢中街205號</td>\n",
       "      <td>異國料理</td>\n",
       "      <td>美式料理</td>\n",
       "      <td>147.0</td>\n",
       "      <td>25.040810</td>\n",
       "      <td>121.506566</td>\n",
       "    </tr>\n",
       "    <tr>\n",
       "      <th>175</th>\n",
       "      <td>時悅樂</td>\n",
       "      <td>營業中</td>\n",
       "      <td>台北市大同區赤峰街17巷20號1樓</td>\n",
       "      <td>異國料理</td>\n",
       "      <td>其他異國料理</td>\n",
       "      <td>155.0</td>\n",
       "      <td>25.053573</td>\n",
       "      <td>121.520159</td>\n",
       "    </tr>\n",
       "    <tr>\n",
       "      <th>178</th>\n",
       "      <td>illuminé Pâtisserie 果昂甜品</td>\n",
       "      <td>營業中</td>\n",
       "      <td>台北市大同區赤峰街43-1號1樓</td>\n",
       "      <td>烘焙、甜點、零食</td>\n",
       "      <td>西點烘焙、麵包</td>\n",
       "      <td>172.0</td>\n",
       "      <td>25.055028</td>\n",
       "      <td>121.519680</td>\n",
       "    </tr>\n",
       "    <tr>\n",
       "      <th>182</th>\n",
       "      <td>定食8 爭鮮餐飲(松山店)</td>\n",
       "      <td>營業中</td>\n",
       "      <td>台北市信義區松山路11號1樓</td>\n",
       "      <td>日式料理</td>\n",
       "      <td>綜合日式料理</td>\n",
       "      <td>190.0</td>\n",
       "      <td>25.049190</td>\n",
       "      <td>121.578299</td>\n",
       "    </tr>\n",
       "    <tr>\n",
       "      <th>185</th>\n",
       "      <td>天然紅豆腐豬血湯</td>\n",
       "      <td>營業中</td>\n",
       "      <td>台北市大同區昌吉街46、48號</td>\n",
       "      <td>小吃</td>\n",
       "      <td>其他小吃</td>\n",
       "      <td>114.0</td>\n",
       "      <td>25.065770</td>\n",
       "      <td>121.516816</td>\n",
       "    </tr>\n",
       "    <tr>\n",
       "      <th>187</th>\n",
       "      <td>找一頓</td>\n",
       "      <td>已歇業</td>\n",
       "      <td>台北市信義區莊敬路448號</td>\n",
       "      <td>早餐</td>\n",
       "      <td>其他類型早餐</td>\n",
       "      <td>152.0</td>\n",
       "      <td>25.026901</td>\n",
       "      <td>121.567266</td>\n",
       "    </tr>\n",
       "    <tr>\n",
       "      <th>191</th>\n",
       "      <td>OCT賭城嫩雞</td>\n",
       "      <td>已歇業</td>\n",
       "      <td>台北市南港區忠孝東路七段359號1樓(B2棟)</td>\n",
       "      <td>異國料理</td>\n",
       "      <td>美式料理</td>\n",
       "      <td>135.0</td>\n",
       "      <td>25.052180</td>\n",
       "      <td>121.606881</td>\n",
       "    </tr>\n",
       "    <tr>\n",
       "      <th>204</th>\n",
       "      <td>鮮食堂</td>\n",
       "      <td>營業中</td>\n",
       "      <td>台北市信義區莊敬路447號1樓</td>\n",
       "      <td>日式料理</td>\n",
       "      <td>綜合日式料理</td>\n",
       "      <td>180.0</td>\n",
       "      <td>25.027109</td>\n",
       "      <td>121.567311</td>\n",
       "    </tr>\n",
       "    <tr>\n",
       "      <th>216</th>\n",
       "      <td>萬年排骨芝山</td>\n",
       "      <td>營業中</td>\n",
       "      <td>台北市士林區福華路148號</td>\n",
       "      <td>小吃</td>\n",
       "      <td>焢肉飯</td>\n",
       "      <td>159.0</td>\n",
       "      <td>25.103419</td>\n",
       "      <td>121.522750</td>\n",
       "    </tr>\n",
       "    <tr>\n",
       "      <th>234</th>\n",
       "      <td>口吅品</td>\n",
       "      <td>營業中</td>\n",
       "      <td>台北市士林區文林路101巷20號</td>\n",
       "      <td>異國料理</td>\n",
       "      <td>美式料理</td>\n",
       "      <td>160.0</td>\n",
       "      <td>25.087949</td>\n",
       "      <td>121.525642</td>\n",
       "    </tr>\n",
       "    <tr>\n",
       "      <th>254</th>\n",
       "      <td>吉林路尾蚵仔麵線</td>\n",
       "      <td>營業中</td>\n",
       "      <td>台北市中山區吉林路476號</td>\n",
       "      <td>小吃</td>\n",
       "      <td>麵線</td>\n",
       "      <td>105.0</td>\n",
       "      <td>25.067677</td>\n",
       "      <td>121.530317</td>\n",
       "    </tr>\n",
       "    <tr>\n",
       "      <th>255</th>\n",
       "      <td>Mokido 夢綺朵美式鬆餅專門店</td>\n",
       "      <td>營業中</td>\n",
       "      <td>台北市中山區民權東路一段12巷15號</td>\n",
       "      <td>烘焙、甜點、零食</td>\n",
       "      <td>西點烘焙、麵包</td>\n",
       "      <td>175.0</td>\n",
       "      <td>25.061997</td>\n",
       "      <td>121.523672</td>\n",
       "    </tr>\n",
       "    <tr>\n",
       "      <th>...</th>\n",
       "      <td>...</td>\n",
       "      <td>...</td>\n",
       "      <td>...</td>\n",
       "      <td>...</td>\n",
       "      <td>...</td>\n",
       "      <td>...</td>\n",
       "      <td>...</td>\n",
       "      <td>...</td>\n",
       "    </tr>\n",
       "    <tr>\n",
       "      <th>36645</th>\n",
       "      <td>一鼎燒(京華城B3美食廣場)</td>\n",
       "      <td>營業中</td>\n",
       "      <td>台北市松山區八德路四段138號</td>\n",
       "      <td>燒烤類</td>\n",
       "      <td>鐵板燒</td>\n",
       "      <td>135.0</td>\n",
       "      <td>25.048495</td>\n",
       "      <td>121.562431</td>\n",
       "    </tr>\n",
       "    <tr>\n",
       "      <th>36650</th>\n",
       "      <td>11oz COFFEE</td>\n",
       "      <td>營業中</td>\n",
       "      <td>台北市大安區敦化南路二段63巷5號</td>\n",
       "      <td>咖啡、簡餐、茶</td>\n",
       "      <td>咖啡專賣</td>\n",
       "      <td>192.0</td>\n",
       "      <td>25.031085</td>\n",
       "      <td>121.549423</td>\n",
       "    </tr>\n",
       "    <tr>\n",
       "      <th>36692</th>\n",
       "      <td>就是牛牛肉麵</td>\n",
       "      <td>營業中</td>\n",
       "      <td>台北市中正區延平南路163巷1號1樓</td>\n",
       "      <td>中式料理</td>\n",
       "      <td>麵食點心</td>\n",
       "      <td>111.0</td>\n",
       "      <td>25.035199</td>\n",
       "      <td>121.507849</td>\n",
       "    </tr>\n",
       "    <tr>\n",
       "      <th>36695</th>\n",
       "      <td>義麵屋</td>\n",
       "      <td>營業中</td>\n",
       "      <td>台北市南港區昆陽街96號</td>\n",
       "      <td>異國料理</td>\n",
       "      <td>義式料理</td>\n",
       "      <td>145.0</td>\n",
       "      <td>25.051690</td>\n",
       "      <td>121.593461</td>\n",
       "    </tr>\n",
       "    <tr>\n",
       "      <th>36698</th>\n",
       "      <td>PINÈDE彼內朵(微風台北車站店)</td>\n",
       "      <td>營業中</td>\n",
       "      <td>台北市中正區北平西路3號</td>\n",
       "      <td>烘焙、甜點、零食</td>\n",
       "      <td>西點烘焙、麵包</td>\n",
       "      <td>103.0</td>\n",
       "      <td>25.047924</td>\n",
       "      <td>121.517081</td>\n",
       "    </tr>\n",
       "    <tr>\n",
       "      <th>36726</th>\n",
       "      <td>台生飲食亭</td>\n",
       "      <td>營業中</td>\n",
       "      <td>台北市中正區開封街一段49號</td>\n",
       "      <td>中式料理</td>\n",
       "      <td>其它中式料理</td>\n",
       "      <td>130.0</td>\n",
       "      <td>25.046126</td>\n",
       "      <td>121.512296</td>\n",
       "    </tr>\n",
       "    <tr>\n",
       "      <th>36736</th>\n",
       "      <td>大江南北鍋貼麵食水餃館</td>\n",
       "      <td>營業中</td>\n",
       "      <td>台北市中山區中山區遼寧街185巷21號</td>\n",
       "      <td>中式料理</td>\n",
       "      <td>麵食點心</td>\n",
       "      <td>115.0</td>\n",
       "      <td>25.053445</td>\n",
       "      <td>121.543375</td>\n",
       "    </tr>\n",
       "    <tr>\n",
       "      <th>36751</th>\n",
       "      <td>大嘴吧涮涮鍋</td>\n",
       "      <td>已歇業</td>\n",
       "      <td>台北市松山區敦化北路4巷21號</td>\n",
       "      <td>鍋類</td>\n",
       "      <td>涮涮鍋</td>\n",
       "      <td>178.0</td>\n",
       "      <td>25.050088</td>\n",
       "      <td>121.546349</td>\n",
       "    </tr>\n",
       "    <tr>\n",
       "      <th>36759</th>\n",
       "      <td>咖啡桌上 On Cafe Table</td>\n",
       "      <td>已歇業</td>\n",
       "      <td>台北市北投區石牌路二段68巷12號</td>\n",
       "      <td>咖啡、簡餐、茶</td>\n",
       "      <td>咖啡專賣</td>\n",
       "      <td>175.0</td>\n",
       "      <td>25.116287</td>\n",
       "      <td>121.516565</td>\n",
       "    </tr>\n",
       "    <tr>\n",
       "      <th>36762</th>\n",
       "      <td>譚仔三哥米線(西門店)</td>\n",
       "      <td>已歇業</td>\n",
       "      <td>台北市萬華區漢中街一零五-一零柒號二樓</td>\n",
       "      <td>中式料理</td>\n",
       "      <td>粵菜 港式飲茶</td>\n",
       "      <td>169.0</td>\n",
       "      <td>25.043354</td>\n",
       "      <td>121.507275</td>\n",
       "    </tr>\n",
       "    <tr>\n",
       "      <th>36772</th>\n",
       "      <td>財 沙茶咖哩 炒麵炒飯</td>\n",
       "      <td>營業中</td>\n",
       "      <td>台北市松山區撫遠街374號</td>\n",
       "      <td>中式料理</td>\n",
       "      <td>熱炒、快炒</td>\n",
       "      <td>150.0</td>\n",
       "      <td>25.067803</td>\n",
       "      <td>121.568093</td>\n",
       "    </tr>\n",
       "    <tr>\n",
       "      <th>36780</th>\n",
       "      <td>第一劇場魚丸店(遼寧店)</td>\n",
       "      <td>已歇業</td>\n",
       "      <td>台北市大同區遼寧街150~ 1號</td>\n",
       "      <td>小吃</td>\n",
       "      <td>麵攤、麵店</td>\n",
       "      <td>135.0</td>\n",
       "      <td>25.054876</td>\n",
       "      <td>121.541998</td>\n",
       "    </tr>\n",
       "    <tr>\n",
       "      <th>36801</th>\n",
       "      <td>涼晨即食早餐店</td>\n",
       "      <td>營業中</td>\n",
       "      <td>台北市大同區台北市庫倫街46號</td>\n",
       "      <td>早餐</td>\n",
       "      <td>西式早餐</td>\n",
       "      <td>113.0</td>\n",
       "      <td>25.072111</td>\n",
       "      <td>121.518089</td>\n",
       "    </tr>\n",
       "    <tr>\n",
       "      <th>36808</th>\n",
       "      <td>黃龍莊</td>\n",
       "      <td>營業中</td>\n",
       "      <td>台北市中正區牿嶺街43號</td>\n",
       "      <td>中式料理</td>\n",
       "      <td>麵食點心</td>\n",
       "      <td>183.0</td>\n",
       "      <td>25.030000</td>\n",
       "      <td>121.516600</td>\n",
       "    </tr>\n",
       "    <tr>\n",
       "      <th>36811</th>\n",
       "      <td>溫國智私藏古早味</td>\n",
       "      <td>已歇業</td>\n",
       "      <td>台北市中山區樂群三路218號</td>\n",
       "      <td>中式料理</td>\n",
       "      <td>其它中式料理</td>\n",
       "      <td>130.0</td>\n",
       "      <td>25.082488</td>\n",
       "      <td>121.558094</td>\n",
       "    </tr>\n",
       "    <tr>\n",
       "      <th>36815</th>\n",
       "      <td>嵐迪義大利麵館</td>\n",
       "      <td>營業中</td>\n",
       "      <td>台北市大安區復興南路一段107巷25-3號</td>\n",
       "      <td>異國料理</td>\n",
       "      <td>義式料理</td>\n",
       "      <td>105.0</td>\n",
       "      <td>25.043695</td>\n",
       "      <td>121.545561</td>\n",
       "    </tr>\n",
       "    <tr>\n",
       "      <th>36823</th>\n",
       "      <td>庫卡咖啡(大直)</td>\n",
       "      <td>營業中</td>\n",
       "      <td>台北市中山區大直街57巷5號</td>\n",
       "      <td>咖啡、簡餐、茶</td>\n",
       "      <td>複合式</td>\n",
       "      <td>130.0</td>\n",
       "      <td>25.077404</td>\n",
       "      <td>121.548601</td>\n",
       "    </tr>\n",
       "    <tr>\n",
       "      <th>36824</th>\n",
       "      <td>Kafemera</td>\n",
       "      <td>營業中</td>\n",
       "      <td>台北市大安區大安路一段175巷11號</td>\n",
       "      <td>咖啡、簡餐、茶</td>\n",
       "      <td>複合式</td>\n",
       "      <td>177.0</td>\n",
       "      <td>25.036548</td>\n",
       "      <td>121.546935</td>\n",
       "    </tr>\n",
       "    <tr>\n",
       "      <th>36830</th>\n",
       "      <td>Waffle Please比利時列日鬆餅(內湖店)</td>\n",
       "      <td>營業中</td>\n",
       "      <td>台北市內湖區港墘路127巷7號</td>\n",
       "      <td>咖啡、簡餐、茶</td>\n",
       "      <td>複合式</td>\n",
       "      <td>134.0</td>\n",
       "      <td>25.077876</td>\n",
       "      <td>121.576498</td>\n",
       "    </tr>\n",
       "    <tr>\n",
       "      <th>36838</th>\n",
       "      <td>口杯食堂</td>\n",
       "      <td>營業中</td>\n",
       "      <td>台北市信義區忠孝東路四段553巷2弄11號</td>\n",
       "      <td>亞洲料理</td>\n",
       "      <td>其他亞洲料理</td>\n",
       "      <td>129.0</td>\n",
       "      <td>25.041962</td>\n",
       "      <td>121.563381</td>\n",
       "    </tr>\n",
       "    <tr>\n",
       "      <th>36843</th>\n",
       "      <td>咱家廚房</td>\n",
       "      <td>營業中</td>\n",
       "      <td>台北市大安區仁愛路四段300巷15-1號</td>\n",
       "      <td>中式料理</td>\n",
       "      <td>熱炒、快炒</td>\n",
       "      <td>110.0</td>\n",
       "      <td>25.036745</td>\n",
       "      <td>121.554550</td>\n",
       "    </tr>\n",
       "    <tr>\n",
       "      <th>36853</th>\n",
       "      <td>內湖路一段737巷雞蛋蚵仔煎</td>\n",
       "      <td>營業中</td>\n",
       "      <td>台北市內湖區內湖路一段737巷30號</td>\n",
       "      <td>小吃</td>\n",
       "      <td>蚵仔煎</td>\n",
       "      <td>120.0</td>\n",
       "      <td>25.079946</td>\n",
       "      <td>121.578575</td>\n",
       "    </tr>\n",
       "    <tr>\n",
       "      <th>36857</th>\n",
       "      <td>公館夜市</td>\n",
       "      <td>營業中</td>\n",
       "      <td>台北市中正區羅斯福路四段90巷&amp;108巷</td>\n",
       "      <td>小吃</td>\n",
       "      <td>其他小吃</td>\n",
       "      <td>118.0</td>\n",
       "      <td>25.091075</td>\n",
       "      <td>121.559835</td>\n",
       "    </tr>\n",
       "    <tr>\n",
       "      <th>36858</th>\n",
       "      <td>Rabbit Rabbit</td>\n",
       "      <td>營業中</td>\n",
       "      <td>台北市中正區信陽街5號</td>\n",
       "      <td>異國料理</td>\n",
       "      <td>美式料理</td>\n",
       "      <td>194.0</td>\n",
       "      <td>25.044708</td>\n",
       "      <td>121.516792</td>\n",
       "    </tr>\n",
       "    <tr>\n",
       "      <th>36864</th>\n",
       "      <td>好記米粉湯</td>\n",
       "      <td>營業中</td>\n",
       "      <td>台北市內湖區碧山路34-3號</td>\n",
       "      <td>小吃</td>\n",
       "      <td>其他小吃</td>\n",
       "      <td>120.0</td>\n",
       "      <td>25.100086</td>\n",
       "      <td>121.586980</td>\n",
       "    </tr>\n",
       "    <tr>\n",
       "      <th>36868</th>\n",
       "      <td>花猴子手工甜點工作室</td>\n",
       "      <td>營業中</td>\n",
       "      <td>台北市文山區興隆路四段100號1樓</td>\n",
       "      <td>烘焙、甜點、零食</td>\n",
       "      <td>西點烘焙、麵包</td>\n",
       "      <td>132.0</td>\n",
       "      <td>24.983111</td>\n",
       "      <td>121.562129</td>\n",
       "    </tr>\n",
       "    <tr>\n",
       "      <th>36874</th>\n",
       "      <td>Sharing Cafe 分享咖啡</td>\n",
       "      <td>已歇業</td>\n",
       "      <td>台北市大安區新生南路三段56巷6號</td>\n",
       "      <td>異國料理</td>\n",
       "      <td>義式料理</td>\n",
       "      <td>160.0</td>\n",
       "      <td>25.020395</td>\n",
       "      <td>121.533530</td>\n",
       "    </tr>\n",
       "    <tr>\n",
       "      <th>36875</th>\n",
       "      <td>GLAMAIR</td>\n",
       "      <td>已歇業</td>\n",
       "      <td>台北市信義區松壽路新光三越A11館B1</td>\n",
       "      <td>冰品、飲料、甜湯</td>\n",
       "      <td>冰淇淋</td>\n",
       "      <td>147.0</td>\n",
       "      <td>25.036301</td>\n",
       "      <td>121.567443</td>\n",
       "    </tr>\n",
       "    <tr>\n",
       "      <th>36886</th>\n",
       "      <td>Taco2Go</td>\n",
       "      <td>營業中</td>\n",
       "      <td>台北市大安區新生南路三段76巷10號</td>\n",
       "      <td>異國料理</td>\n",
       "      <td>墨西哥料理</td>\n",
       "      <td>150.0</td>\n",
       "      <td>25.019289</td>\n",
       "      <td>121.532904</td>\n",
       "    </tr>\n",
       "    <tr>\n",
       "      <th>36894</th>\n",
       "      <td>吳記豐原排骨酥</td>\n",
       "      <td>營業中</td>\n",
       "      <td>台北市信義區永吉路30巷158弄2號</td>\n",
       "      <td>小吃</td>\n",
       "      <td>筒仔米糕</td>\n",
       "      <td>140.0</td>\n",
       "      <td>25.042274</td>\n",
       "      <td>121.568555</td>\n",
       "    </tr>\n",
       "  </tbody>\n",
       "</table>\n",
       "<p>4829 rows × 8 columns</p>\n",
       "</div>"
      ],
      "text/plain": [
       "                                 name status                  Address  \\\n",
       "3                        武藏 大眾食堂(伊通店)    營業中           台北市中山區伊通街52巷6號   \n",
       "8                    Xai Xing dé 耍性子    營業中        台北市大安區仁愛路四段228-2號   \n",
       "16     Stone Age Bar & Grill 石器時代主題餐廳    營業中           台北市萬華區武昌街二段85號   \n",
       "33        Mr.Martin's Kitchen 馬丁廚房工作室    營業中  台北市大安區新生南路三段76巷12弄10之5號   \n",
       "34                               魔力小樂    營業中           台北市文山區保儀路26巷9號   \n",
       "44                     Å Cafe&Crystal    已歇業    台北市大安區仁愛路四段300巷26弄31號   \n",
       "45                       九樂新南洋麵食(士林店)    已歇業            台北市士林區基河路301號   \n",
       "67                              梨園小吃店    營業中       台北市萬華區 中華路一段114巷2號   \n",
       "76                  飯樂丼 Fun Rice(信義店)    營業中           台北市信義區松壽路20號2樓   \n",
       "86                             老熊味湯包館    已歇業      台北市信義區基隆路一段147巷9號1樓   \n",
       "102                                哲麵    已歇業            台北市萬華區漢中街116號   \n",
       "119                             櫻五鐵板燒    營業中             台北市北投區中和街45號   \n",
       "133                唯樂漢堡 Winner Burger    營業中        台北市中山區復興北路514巷36號   \n",
       "136                            澳客炙燒牛排    營業中           台北市大安區臨江街99-1號   \n",
       "144                          大葉高島屋美食街    營業中           台北市士林區忠誠路二段55號   \n",
       "149    貳貳泰式料理 Tuk Tuk Thai Combo Food    已歇業             台北市士林區大南路81號   \n",
       "152                           MR. TKK    營業中            台北市中正區南昌路二段3號   \n",
       "169                          TitaCafe    營業中           台北市文山區指南路二段72號   \n",
       "171                     The Aroma 馨香堂    營業中            台北市萬華區漢中街205號   \n",
       "175                               時悅樂    營業中        台北市大同區赤峰街17巷20號1樓   \n",
       "178          illuminé Pâtisserie 果昂甜品    營業中         台北市大同區赤峰街43-1號1樓   \n",
       "182                     定食8 爭鮮餐飲(松山店)    營業中           台北市信義區松山路11號1樓   \n",
       "185                          天然紅豆腐豬血湯    營業中          台北市大同區昌吉街46、48號   \n",
       "187                               找一頓    已歇業            台北市信義區莊敬路448號   \n",
       "191                           OCT賭城嫩雞    已歇業  台北市南港區忠孝東路七段359號1樓(B2棟)   \n",
       "204                               鮮食堂    營業中          台北市信義區莊敬路447號1樓   \n",
       "216                            萬年排骨芝山    營業中            台北市士林區福華路148號   \n",
       "234                               口吅品    營業中         台北市士林區文林路101巷20號   \n",
       "254                          吉林路尾蚵仔麵線    營業中            台北市中山區吉林路476號   \n",
       "255                 Mokido 夢綺朵美式鬆餅專門店    營業中       台北市中山區民權東路一段12巷15號   \n",
       "...                               ...    ...                      ...   \n",
       "36645                  一鼎燒(京華城B3美食廣場)    營業中          台北市松山區八德路四段138號   \n",
       "36650                     11oz COFFEE    營業中        台北市大安區敦化南路二段63巷5號   \n",
       "36692                          就是牛牛肉麵    營業中       台北市中正區延平南路163巷1號1樓   \n",
       "36695                             義麵屋    營業中             台北市南港區昆陽街96號   \n",
       "36698              PINÈDE彼內朵(微風台北車站店)    營業中             台北市中正區北平西路3號   \n",
       "36726                           台生飲食亭    營業中           台北市中正區開封街一段49號   \n",
       "36736                     大江南北鍋貼麵食水餃館    營業中      台北市中山區中山區遼寧街185巷21號   \n",
       "36751                          大嘴吧涮涮鍋    已歇業          台北市松山區敦化北路4巷21號   \n",
       "36759              咖啡桌上 On Cafe Table    已歇業        台北市北投區石牌路二段68巷12號   \n",
       "36762                     譚仔三哥米線(西門店)    已歇業      台北市萬華區漢中街一零五-一零柒號二樓   \n",
       "36772                     財 沙茶咖哩 炒麵炒飯    營業中            台北市松山區撫遠街374號   \n",
       "36780                    第一劇場魚丸店(遼寧店)    已歇業         台北市大同區遼寧街150~ 1號   \n",
       "36801                         涼晨即食早餐店    營業中          台北市大同區台北市庫倫街46號   \n",
       "36808                             黃龍莊    營業中             台北市中正區牿嶺街43號   \n",
       "36811                        溫國智私藏古早味    已歇業           台北市中山區樂群三路218號   \n",
       "36815                         嵐迪義大利麵館    營業中    台北市大安區復興南路一段107巷25-3號   \n",
       "36823                        庫卡咖啡(大直)    營業中           台北市中山區大直街57巷5號   \n",
       "36824                        Kafemera    營業中       台北市大安區大安路一段175巷11號   \n",
       "36830       Waffle Please比利時列日鬆餅(內湖店)    營業中          台北市內湖區港墘路127巷7號   \n",
       "36838                            口杯食堂    營業中    台北市信義區忠孝東路四段553巷2弄11號   \n",
       "36843                            咱家廚房    營業中     台北市大安區仁愛路四段300巷15-1號   \n",
       "36853                  內湖路一段737巷雞蛋蚵仔煎    營業中       台北市內湖區內湖路一段737巷30號   \n",
       "36857                            公館夜市    營業中     台北市中正區羅斯福路四段90巷&108巷   \n",
       "36858                   Rabbit Rabbit    營業中              台北市中正區信陽街5號   \n",
       "36864                           好記米粉湯    營業中           台北市內湖區碧山路34-3號   \n",
       "36868                      花猴子手工甜點工作室    營業中        台北市文山區興隆路四段100號1樓   \n",
       "36874               Sharing Cafe 分享咖啡    已歇業        台北市大安區新生南路三段56巷6號   \n",
       "36875                         GLAMAIR    已歇業      台北市信義區松壽路新光三越A11館B1   \n",
       "36886                         Taco2Go    營業中       台北市大安區新生南路三段76巷10號   \n",
       "36894                         吳記豐原排骨酥    營業中       台北市信義區永吉路30巷158弄2號   \n",
       "\n",
       "       type_one  type_two  price        lat         lon  \n",
       "3          日式料理    綜合日式料理  160.0  25.051292  121.534340  \n",
       "8          異國料理      美式料理  165.0  25.037451  121.551716  \n",
       "16         異國料理     墨西哥料理  109.0  25.045304  121.504868  \n",
       "33     烘焙、甜點、零食   西點烘焙、麵包  148.0  25.019389  121.533058  \n",
       "34      咖啡、簡餐、茶      咖啡專賣  113.0  24.988345  121.568658  \n",
       "44      咖啡、簡餐、茶      咖啡專賣  140.0  25.036138  121.553195  \n",
       "45         亞洲料理    綜合南洋料理  162.0  25.097540  121.514218  \n",
       "67           小吃      其他小吃  123.0  25.043793  121.508135  \n",
       "76         日式料理    綜合日式料理  160.0  25.035636  121.567099  \n",
       "86         中式料理  上海菜(江浙菜)  120.0  25.042525  121.566225  \n",
       "102        日式料理    日式麵食專賣  130.0  25.043025  121.507352  \n",
       "119        中式料理    其它中式料理  180.0  25.138261  121.502439  \n",
       "133          早餐      西式早餐  122.0  25.065925  121.542465  \n",
       "136        異國料理      美式料理  159.0  25.030256  121.554552  \n",
       "144        其他美食      其他美食  139.0  25.111857  121.531367  \n",
       "149        亞洲料理      泰式料理  179.0  25.089264  121.524335  \n",
       "152     咖啡、簡餐、茶       複合式  161.0  25.028675  121.519262  \n",
       "169     咖啡、簡餐、茶       複合式  108.0  24.986776  121.578589  \n",
       "171        異國料理      美式料理  147.0  25.040810  121.506566  \n",
       "175        異國料理    其他異國料理  155.0  25.053573  121.520159  \n",
       "178    烘焙、甜點、零食   西點烘焙、麵包  172.0  25.055028  121.519680  \n",
       "182        日式料理    綜合日式料理  190.0  25.049190  121.578299  \n",
       "185          小吃      其他小吃  114.0  25.065770  121.516816  \n",
       "187          早餐    其他類型早餐  152.0  25.026901  121.567266  \n",
       "191        異國料理      美式料理  135.0  25.052180  121.606881  \n",
       "204        日式料理    綜合日式料理  180.0  25.027109  121.567311  \n",
       "216          小吃       焢肉飯  159.0  25.103419  121.522750  \n",
       "234        異國料理      美式料理  160.0  25.087949  121.525642  \n",
       "254          小吃        麵線  105.0  25.067677  121.530317  \n",
       "255    烘焙、甜點、零食   西點烘焙、麵包  175.0  25.061997  121.523672  \n",
       "...         ...       ...    ...        ...         ...  \n",
       "36645       燒烤類       鐵板燒  135.0  25.048495  121.562431  \n",
       "36650   咖啡、簡餐、茶      咖啡專賣  192.0  25.031085  121.549423  \n",
       "36692      中式料理      麵食點心  111.0  25.035199  121.507849  \n",
       "36695      異國料理      義式料理  145.0  25.051690  121.593461  \n",
       "36698  烘焙、甜點、零食   西點烘焙、麵包  103.0  25.047924  121.517081  \n",
       "36726      中式料理    其它中式料理  130.0  25.046126  121.512296  \n",
       "36736      中式料理      麵食點心  115.0  25.053445  121.543375  \n",
       "36751        鍋類       涮涮鍋  178.0  25.050088  121.546349  \n",
       "36759   咖啡、簡餐、茶      咖啡專賣  175.0  25.116287  121.516565  \n",
       "36762      中式料理   粵菜 港式飲茶  169.0  25.043354  121.507275  \n",
       "36772      中式料理     熱炒、快炒  150.0  25.067803  121.568093  \n",
       "36780        小吃     麵攤、麵店  135.0  25.054876  121.541998  \n",
       "36801        早餐      西式早餐  113.0  25.072111  121.518089  \n",
       "36808      中式料理      麵食點心  183.0  25.030000  121.516600  \n",
       "36811      中式料理    其它中式料理  130.0  25.082488  121.558094  \n",
       "36815      異國料理      義式料理  105.0  25.043695  121.545561  \n",
       "36823   咖啡、簡餐、茶       複合式  130.0  25.077404  121.548601  \n",
       "36824   咖啡、簡餐、茶       複合式  177.0  25.036548  121.546935  \n",
       "36830   咖啡、簡餐、茶       複合式  134.0  25.077876  121.576498  \n",
       "36838      亞洲料理    其他亞洲料理  129.0  25.041962  121.563381  \n",
       "36843      中式料理     熱炒、快炒  110.0  25.036745  121.554550  \n",
       "36853        小吃       蚵仔煎  120.0  25.079946  121.578575  \n",
       "36857        小吃      其他小吃  118.0  25.091075  121.559835  \n",
       "36858      異國料理      美式料理  194.0  25.044708  121.516792  \n",
       "36864        小吃      其他小吃  120.0  25.100086  121.586980  \n",
       "36868  烘焙、甜點、零食   西點烘焙、麵包  132.0  24.983111  121.562129  \n",
       "36874      異國料理      義式料理  160.0  25.020395  121.533530  \n",
       "36875  冰品、飲料、甜湯       冰淇淋  147.0  25.036301  121.567443  \n",
       "36886      異國料理     墨西哥料理  150.0  25.019289  121.532904  \n",
       "36894        小吃      筒仔米糕  140.0  25.042274  121.568555  \n",
       "\n",
       "[4829 rows x 8 columns]"
      ]
     },
     "execution_count": 60,
     "metadata": {},
     "output_type": "execute_result"
    }
   ],
   "source": [
    "rst[(rst['price'] > 100) & (rst['price'] < 200)]"
   ]
  },
  {
   "cell_type": "markdown",
   "metadata": {},
   "source": [
    "# dplyr"
   ]
  },
  {
   "cell_type": "markdown",
   "metadata": {},
   "source": [
    "filter() 函數：SQL 查詢中的 where 描述<br>\n",
    "select() 函數：SQL 查詢中的 select 描述<br>\n",
    "mutate() 函數：SQL 查詢中的衍生欄位描述<br>\n",
    "arrange() 函數：SQL 查詢中的 order by 描述<br>\n",
    "summarise() 函數：SQL 查詢中的聚合函數描述<br>\n",
    "group_by() 函數：SQL 查詢中的 group by 描述<br>"
   ]
  },
  {
   "cell_type": "markdown",
   "metadata": {},
   "source": [
    "### filter(), where: \n",
    "    use & and | to add the condition of query"
   ]
  },
  {
   "cell_type": "code",
   "execution_count": 92,
   "metadata": {
    "scrolled": false
   },
   "outputs": [
    {
     "data": {
      "text/html": [
       "<div>\n",
       "<style scoped>\n",
       "    .dataframe tbody tr th:only-of-type {\n",
       "        vertical-align: middle;\n",
       "    }\n",
       "\n",
       "    .dataframe tbody tr th {\n",
       "        vertical-align: top;\n",
       "    }\n",
       "\n",
       "    .dataframe thead th {\n",
       "        text-align: right;\n",
       "    }\n",
       "</style>\n",
       "<table border=\"1\" class=\"dataframe\">\n",
       "  <thead>\n",
       "    <tr style=\"text-align: right;\">\n",
       "      <th></th>\n",
       "      <th>name</th>\n",
       "      <th>status</th>\n",
       "      <th>Address</th>\n",
       "      <th>type_one</th>\n",
       "      <th>type_two</th>\n",
       "      <th>price</th>\n",
       "      <th>lat</th>\n",
       "      <th>lon</th>\n",
       "    </tr>\n",
       "  </thead>\n",
       "  <tbody>\n",
       "    <tr>\n",
       "      <th>4370</th>\n",
       "      <td>電商咖啡(信義吳興店)</td>\n",
       "      <td>已歇業</td>\n",
       "      <td>台北市信義區吳興街85號</td>\n",
       "      <td>咖啡、簡餐、茶</td>\n",
       "      <td>複合式</td>\n",
       "      <td>429497000.0</td>\n",
       "      <td>25.030703</td>\n",
       "      <td>121.560767</td>\n",
       "    </tr>\n",
       "  </tbody>\n",
       "</table>\n",
       "</div>"
      ],
      "text/plain": [
       "             name status       Address type_one type_two        price  \\\n",
       "4370  電商咖啡(信義吳興店)    已歇業  台北市信義區吳興街85號  咖啡、簡餐、茶      複合式  429497000.0   \n",
       "\n",
       "            lat         lon  \n",
       "4370  25.030703  121.560767  "
      ]
     },
     "execution_count": 92,
     "metadata": {},
     "output_type": "execute_result"
    }
   ],
   "source": [
    "rst[(rst['price'] >= 100) & (rst['name'] == '電商咖啡(信義吳興店)')].head()"
   ]
  },
  {
   "cell_type": "markdown",
   "metadata": {},
   "source": [
    "### select(), select: \n",
    "    put a series of columes as a list in the '[ ]'"
   ]
  },
  {
   "cell_type": "code",
   "execution_count": 96,
   "metadata": {
    "scrolled": false
   },
   "outputs": [
    {
     "data": {
      "text/html": [
       "<div>\n",
       "<style scoped>\n",
       "    .dataframe tbody tr th:only-of-type {\n",
       "        vertical-align: middle;\n",
       "    }\n",
       "\n",
       "    .dataframe tbody tr th {\n",
       "        vertical-align: top;\n",
       "    }\n",
       "\n",
       "    .dataframe thead th {\n",
       "        text-align: right;\n",
       "    }\n",
       "</style>\n",
       "<table border=\"1\" class=\"dataframe\">\n",
       "  <thead>\n",
       "    <tr style=\"text-align: right;\">\n",
       "      <th></th>\n",
       "      <th>name</th>\n",
       "      <th>price</th>\n",
       "    </tr>\n",
       "  </thead>\n",
       "  <tbody>\n",
       "    <tr>\n",
       "      <th>0</th>\n",
       "      <td>京都日式涮涮鍋</td>\n",
       "      <td>NaN</td>\n",
       "    </tr>\n",
       "    <tr>\n",
       "      <th>1</th>\n",
       "      <td>享樂烘焙(中山旗艦店)</td>\n",
       "      <td>NaN</td>\n",
       "    </tr>\n",
       "    <tr>\n",
       "      <th>2</th>\n",
       "      <td>福珍真味涮涮鍋</td>\n",
       "      <td>NaN</td>\n",
       "    </tr>\n",
       "    <tr>\n",
       "      <th>3</th>\n",
       "      <td>武藏 大眾食堂(伊通店)</td>\n",
       "      <td>160.0</td>\n",
       "    </tr>\n",
       "    <tr>\n",
       "      <th>4</th>\n",
       "      <td>上佳香菇肉粥</td>\n",
       "      <td>NaN</td>\n",
       "    </tr>\n",
       "  </tbody>\n",
       "</table>\n",
       "</div>"
      ],
      "text/plain": [
       "           name  price\n",
       "0       京都日式涮涮鍋    NaN\n",
       "1   享樂烘焙(中山旗艦店)    NaN\n",
       "2       福珍真味涮涮鍋    NaN\n",
       "3  武藏 大眾食堂(伊通店)  160.0\n",
       "4        上佳香菇肉粥    NaN"
      ]
     },
     "execution_count": 96,
     "metadata": {},
     "output_type": "execute_result"
    }
   ],
   "source": [
    "rst[['name','price']].head()"
   ]
  },
  {
   "cell_type": "code",
   "execution_count": null,
   "metadata": {},
   "outputs": [],
   "source": [
    "rst[['name','price']].head()"
   ]
  },
  {
   "cell_type": "markdown",
   "metadata": {},
   "source": [
    "#### mutate():\n",
    "    add results of calculations."
   ]
  },
  {
   "cell_type": "markdown",
   "metadata": {},
   "source": [
    "# 1."
   ]
  },
  {
   "cell_type": "code",
   "execution_count": 98,
   "metadata": {},
   "outputs": [
    {
     "data": {
      "text/plain": [
       "0          NaN\n",
       "1          NaN\n",
       "2          NaN\n",
       "3    1600000.0\n",
       "4          NaN\n",
       "Name: price, dtype: float64"
      ]
     },
     "execution_count": 98,
     "metadata": {},
     "output_type": "execute_result"
    }
   ],
   "source": [
    "rst['price'].apply(lambda x: x*10000).head()"
   ]
  },
  {
   "cell_type": "code",
   "execution_count": 116,
   "metadata": {},
   "outputs": [],
   "source": [
    "rst['priceAdd10000'] = rst['price'].apply(lambda x: x*10000)"
   ]
  },
  {
   "cell_type": "code",
   "execution_count": 117,
   "metadata": {},
   "outputs": [
    {
     "name": "stdout",
     "output_type": "stream",
     "text": [
      "<class 'pandas.core.frame.DataFrame'>\n",
      "RangeIndex: 36915 entries, 0 to 36914\n",
      "Data columns (total 9 columns):\n",
      "name             36915 non-null object\n",
      "status           36915 non-null object\n",
      "Address          36915 non-null object\n",
      "type_one         36893 non-null object\n",
      "type_two         36893 non-null object\n",
      "price            22585 non-null float64\n",
      "lat              36915 non-null float64\n",
      "lon              36915 non-null float64\n",
      "priceAdd10000    22585 non-null float64\n",
      "dtypes: float64(4), object(5)\n",
      "memory usage: 2.5+ MB\n"
     ]
    }
   ],
   "source": [
    "rst.info()"
   ]
  },
  {
   "cell_type": "code",
   "execution_count": 118,
   "metadata": {},
   "outputs": [],
   "source": [
    "rst = rst.drop(columns='priceAdd10000')"
   ]
  },
  {
   "cell_type": "code",
   "execution_count": 119,
   "metadata": {},
   "outputs": [
    {
     "name": "stdout",
     "output_type": "stream",
     "text": [
      "<class 'pandas.core.frame.DataFrame'>\n",
      "RangeIndex: 36915 entries, 0 to 36914\n",
      "Data columns (total 8 columns):\n",
      "name        36915 non-null object\n",
      "status      36915 non-null object\n",
      "Address     36915 non-null object\n",
      "type_one    36893 non-null object\n",
      "type_two    36893 non-null object\n",
      "price       22585 non-null float64\n",
      "lat         36915 non-null float64\n",
      "lon         36915 non-null float64\n",
      "dtypes: float64(3), object(5)\n",
      "memory usage: 2.3+ MB\n"
     ]
    }
   ],
   "source": [
    "rst.info()"
   ]
  },
  {
   "cell_type": "markdown",
   "metadata": {},
   "source": [
    "### 2."
   ]
  },
  {
   "cell_type": "code",
   "execution_count": 193,
   "metadata": {},
   "outputs": [
    {
     "name": "stdout",
     "output_type": "stream",
     "text": [
      "<class 'pandas.core.frame.DataFrame'>\n",
      "RangeIndex: 5 entries, 0 to 4\n",
      "Data columns (total 3 columns):\n",
      "col_1    5 non-null int64\n",
      "col_2    5 non-null int64\n",
      "col_3    5 non-null object\n",
      "dtypes: int64(2), object(1)\n",
      "memory usage: 200.0+ bytes\n"
     ]
    },
    {
     "data": {
      "text/html": [
       "<div>\n",
       "<style scoped>\n",
       "    .dataframe tbody tr th:only-of-type {\n",
       "        vertical-align: middle;\n",
       "    }\n",
       "\n",
       "    .dataframe tbody tr th {\n",
       "        vertical-align: top;\n",
       "    }\n",
       "\n",
       "    .dataframe thead th {\n",
       "        text-align: right;\n",
       "    }\n",
       "</style>\n",
       "<table border=\"1\" class=\"dataframe\">\n",
       "  <thead>\n",
       "    <tr style=\"text-align: right;\">\n",
       "      <th></th>\n",
       "      <th>col_1</th>\n",
       "      <th>col_2</th>\n",
       "      <th>col_3</th>\n",
       "    </tr>\n",
       "  </thead>\n",
       "  <tbody>\n",
       "    <tr>\n",
       "      <th>0</th>\n",
       "      <td>1</td>\n",
       "      <td>2</td>\n",
       "      <td>a</td>\n",
       "    </tr>\n",
       "    <tr>\n",
       "      <th>1</th>\n",
       "      <td>3</td>\n",
       "      <td>4</td>\n",
       "      <td>b</td>\n",
       "    </tr>\n",
       "    <tr>\n",
       "      <th>2</th>\n",
       "      <td>5</td>\n",
       "      <td>6</td>\n",
       "      <td>c</td>\n",
       "    </tr>\n",
       "    <tr>\n",
       "      <th>3</th>\n",
       "      <td>7</td>\n",
       "      <td>8</td>\n",
       "      <td>d</td>\n",
       "    </tr>\n",
       "    <tr>\n",
       "      <th>4</th>\n",
       "      <td>9</td>\n",
       "      <td>10</td>\n",
       "      <td>e</td>\n",
       "    </tr>\n",
       "  </tbody>\n",
       "</table>\n",
       "</div>"
      ],
      "text/plain": [
       "   col_1  col_2 col_3\n",
       "0      1      2     a\n",
       "1      3      4     b\n",
       "2      5      6     c\n",
       "3      7      8     d\n",
       "4      9     10     e"
      ]
     },
     "execution_count": 193,
     "metadata": {},
     "output_type": "execute_result"
    }
   ],
   "source": [
    "df = pd.DataFrame({'col_1':[1,3,5,7,9],'col_2':[2,4,6,8,10],'col_3':['a','b','c','d','e']})\n",
    "df.info()\n",
    "df"
   ]
  },
  {
   "cell_type": "code",
   "execution_count": 203,
   "metadata": {},
   "outputs": [],
   "source": [
    "def f(x):\n",
    "    return x[0],x[1]"
   ]
  },
  {
   "cell_type": "code",
   "execution_count": 199,
   "metadata": {
    "scrolled": true
   },
   "outputs": [
    {
     "data": {
      "text/plain": [
       "0     (1, 2)\n",
       "1     (3, 4)\n",
       "2     (5, 6)\n",
       "3     (7, 8)\n",
       "4    (9, 10)\n",
       "dtype: object"
      ]
     },
     "execution_count": 199,
     "metadata": {},
     "output_type": "execute_result"
    }
   ],
   "source": [
    "df.apply(f,axis=1)"
   ]
  },
  {
   "cell_type": "markdown",
   "metadata": {},
   "source": [
    "# This is the state code task!"
   ]
  },
  {
   "cell_type": "markdown",
   "metadata": {},
   "source": [
    "## Restaurant"
   ]
  },
  {
   "cell_type": "code",
   "execution_count": 235,
   "metadata": {},
   "outputs": [
    {
     "data": {
      "text/plain": [
       "(6, 7)"
      ]
     },
     "execution_count": 235,
     "metadata": {},
     "output_type": "execute_result"
    }
   ],
   "source": [
    "lat = list(rst.columns).index('lat')\n",
    "lon = list(rst.columns).index('lon')\n",
    "(lat,lon)"
   ]
  },
  {
   "cell_type": "code",
   "execution_count": 236,
   "metadata": {},
   "outputs": [],
   "source": [
    "def calculation(x):\n",
    "    return x[6],x[7]"
   ]
  },
  {
   "cell_type": "code",
   "execution_count": 237,
   "metadata": {},
   "outputs": [
    {
     "data": {
      "text/plain": [
       "0    554226991\n",
       "1    554126979\n",
       "2    553726955\n",
       "3    554026968\n",
       "4    554126977\n",
       "dtype: object"
      ]
     },
     "execution_count": 237,
     "metadata": {},
     "output_type": "execute_result"
    }
   ],
   "source": [
    "new_col = rst.apply(stat_code_compute,axis=1)\n",
    "new_col.head()"
   ]
  },
  {
   "cell_type": "code",
   "execution_count": 238,
   "metadata": {},
   "outputs": [
    {
     "data": {
      "text/plain": [
       "pandas.core.series.Series"
      ]
     },
     "execution_count": 238,
     "metadata": {},
     "output_type": "execute_result"
    }
   ],
   "source": [
    "type(new_col)"
   ]
  },
  {
   "cell_type": "code",
   "execution_count": 239,
   "metadata": {},
   "outputs": [
    {
     "data": {
      "text/plain": [
       "(36915,)"
      ]
     },
     "execution_count": 239,
     "metadata": {},
     "output_type": "execute_result"
    }
   ],
   "source": [
    "new_col.shape"
   ]
  },
  {
   "cell_type": "code",
   "execution_count": 290,
   "metadata": {},
   "outputs": [
    {
     "data": {
      "text/plain": [
       "0    554226991\n",
       "1    554126979\n",
       "2    553726955\n",
       "3    554026968\n",
       "4    554126977\n",
       "dtype: object"
      ]
     },
     "execution_count": 290,
     "metadata": {},
     "output_type": "execute_result"
    }
   ],
   "source": [
    "rst['state_code'] = new_col\n",
    "new_col.head()"
   ]
  },
  {
   "cell_type": "code",
   "execution_count": 241,
   "metadata": {},
   "outputs": [
    {
     "name": "stdout",
     "output_type": "stream",
     "text": [
      "<class 'pandas.core.frame.DataFrame'>\n",
      "RangeIndex: 36915 entries, 0 to 36914\n",
      "Data columns (total 9 columns):\n",
      "name          36915 non-null object\n",
      "status        36915 non-null object\n",
      "Address       36915 non-null object\n",
      "type_one      36893 non-null object\n",
      "type_two      36893 non-null object\n",
      "price         22585 non-null float64\n",
      "lat           36915 non-null float64\n",
      "lon           36915 non-null float64\n",
      "state_code    36915 non-null object\n",
      "dtypes: float64(3), object(6)\n",
      "memory usage: 2.5+ MB\n"
     ]
    }
   ],
   "source": [
    "rst.info()"
   ]
  },
  {
   "cell_type": "code",
   "execution_count": 291,
   "metadata": {},
   "outputs": [],
   "source": [
    "rst.to_csv('output/restaurant_statcode.csv','w')"
   ]
  },
  {
   "cell_type": "markdown",
   "metadata": {},
   "source": [
    "## Job"
   ]
  },
  {
   "cell_type": "code",
   "execution_count": 278,
   "metadata": {},
   "outputs": [],
   "source": [
    "jb = pd.read_csv('jobs_2018_07_10.csv',header=None)"
   ]
  },
  {
   "cell_type": "code",
   "execution_count": 279,
   "metadata": {},
   "outputs": [
    {
     "data": {
      "text/plain": [
       "Int64Index([0, 1, 2, 3, 4, 5, 6, 7], dtype='int64')"
      ]
     },
     "execution_count": 279,
     "metadata": {},
     "output_type": "execute_result"
    }
   ],
   "source": [
    "jb.columns"
   ]
  },
  {
   "cell_type": "code",
   "execution_count": 280,
   "metadata": {},
   "outputs": [
    {
     "data": {
      "text/html": [
       "<div>\n",
       "<style scoped>\n",
       "    .dataframe tbody tr th:only-of-type {\n",
       "        vertical-align: middle;\n",
       "    }\n",
       "\n",
       "    .dataframe tbody tr th {\n",
       "        vertical-align: top;\n",
       "    }\n",
       "\n",
       "    .dataframe thead th {\n",
       "        text-align: right;\n",
       "    }\n",
       "</style>\n",
       "<table border=\"1\" class=\"dataframe\">\n",
       "  <thead>\n",
       "    <tr style=\"text-align: right;\">\n",
       "      <th></th>\n",
       "      <th>title</th>\n",
       "      <th>company</th>\n",
       "      <th>address</th>\n",
       "      <th>lat</th>\n",
       "      <th>lon</th>\n",
       "      <th>content</th>\n",
       "      <th>tool</th>\n",
       "      <th>others</th>\n",
       "    </tr>\n",
       "  </thead>\n",
       "  <tbody>\n",
       "    <tr>\n",
       "      <th>0</th>\n",
       "      <td>SA20088 資料分析師</td>\n",
       "      <td>華碩電腦股份有限公司</td>\n",
       "      <td>台北市北投區台北市北投區中央南路二段35號6樓</td>\n",
       "      <td>25.122048</td>\n",
       "      <td>121.500310</td>\n",
       "      <td>這是一個支援全球 scale 的團隊，我們進行研究、實驗、建立政策、製作指導文件、發展課程，...</td>\n",
       "      <td>不拘 不拘</td>\n",
       "      <td>1.  熟悉Google Analytics工具，除了撈資料與解讀基本報表之外，要能善用進階...</td>\n",
       "    </tr>\n",
       "    <tr>\n",
       "      <th>1</th>\n",
       "      <td>SAP(BW/資料倉儲)系統工程師</td>\n",
       "      <td>(總公司)南山人壽保險股份有限公司</td>\n",
       "      <td>台北市信義區莊敬路168號</td>\n",
       "      <td>25.031794</td>\n",
       "      <td>121.561091</td>\n",
       "      <td>●規劃高可靠度SAP系統架構(HA SAP Landscape Design)●配合專案需求...</td>\n",
       "      <td>不拘 不拘</td>\n",
       "      <td>●對資料庫管理有興趣 具耐心及專注力●具資料庫管理、Data Warehousing、統計分...</td>\n",
       "    </tr>\n",
       "  </tbody>\n",
       "</table>\n",
       "</div>"
      ],
      "text/plain": [
       "               title            company                  address        lat  \\\n",
       "0      SA20088 資料分析師         華碩電腦股份有限公司  台北市北投區台北市北投區中央南路二段35號6樓  25.122048   \n",
       "1  SAP(BW/資料倉儲)系統工程師  (總公司)南山人壽保險股份有限公司            台北市信義區莊敬路168號  25.031794   \n",
       "\n",
       "          lon                                            content    tool  \\\n",
       "0  121.500310  這是一個支援全球 scale 的團隊，我們進行研究、實驗、建立政策、製作指導文件、發展課程，...  不拘 不拘    \n",
       "1  121.561091  ●規劃高可靠度SAP系統架構(HA SAP Landscape Design)●配合專案需求...  不拘 不拘    \n",
       "\n",
       "                                              others  \n",
       "0  1.  熟悉Google Analytics工具，除了撈資料與解讀基本報表之外，要能善用進階...  \n",
       "1  ●對資料庫管理有興趣 具耐心及專注力●具資料庫管理、Data Warehousing、統計分...  "
      ]
     },
     "execution_count": 280,
     "metadata": {},
     "output_type": "execute_result"
    }
   ],
   "source": [
    "jb.head(1)\n",
    "jb.columns = ['title','company','address','lat','lon','content','tool','others']\n",
    "jb.head(2)"
   ]
  },
  {
   "cell_type": "code",
   "execution_count": 281,
   "metadata": {},
   "outputs": [],
   "source": [
    "def stat_code_compute_2(x):\n",
    "    scale_km = 0.5\n",
    "    lat = x[3]\n",
    "    lon = x[4]\n",
    "    lat_to_km = lat*110.574\n",
    "    lon_to_km = lon*(111.320*cos(lat))\n",
    "\n",
    "    state_code_x = int(lat_to_km//scale_km)\n",
    "    state_code_y = int(lon_to_km//scale_km)\n",
    "    state_code = str(state_code_x)+str(state_code_y)\n",
    "    return state_code"
   ]
  },
  {
   "cell_type": "code",
   "execution_count": 282,
   "metadata": {},
   "outputs": [],
   "source": [
    "new_cl = jb.apply(stat_code_compute_2,axis=1)"
   ]
  },
  {
   "cell_type": "code",
   "execution_count": 283,
   "metadata": {},
   "outputs": [],
   "source": [
    "jb['state_code'] = new_cl"
   ]
  },
  {
   "cell_type": "code",
   "execution_count": 284,
   "metadata": {},
   "outputs": [
    {
     "name": "stdout",
     "output_type": "stream",
     "text": [
      "<class 'pandas.core.frame.DataFrame'>\n",
      "RangeIndex: 5055 entries, 0 to 5054\n",
      "Data columns (total 9 columns):\n",
      "title         5055 non-null object\n",
      "company       5055 non-null object\n",
      "address       5055 non-null object\n",
      "lat           5055 non-null float64\n",
      "lon           5055 non-null float64\n",
      "content       5055 non-null object\n",
      "tool          5055 non-null object\n",
      "others        5055 non-null object\n",
      "state_code    5055 non-null object\n",
      "dtypes: float64(2), object(7)\n",
      "memory usage: 355.5+ KB\n"
     ]
    }
   ],
   "source": [
    "jb.info()"
   ]
  },
  {
   "cell_type": "code",
   "execution_count": 287,
   "metadata": {},
   "outputs": [],
   "source": [
    "jb.to_csv('output/job_stat_code.csv','w')"
   ]
  },
  {
   "cell_type": "markdown",
   "metadata": {},
   "source": [
    "# Fini"
   ]
  }
 ],
 "metadata": {
  "kernelspec": {
   "display_name": "Python 3",
   "language": "python",
   "name": "python3"
  },
  "language_info": {
   "codemirror_mode": {
    "name": "ipython",
    "version": 3
   },
   "file_extension": ".py",
   "mimetype": "text/x-python",
   "name": "python",
   "nbconvert_exporter": "python",
   "pygments_lexer": "ipython3",
   "version": "3.6.5"
  }
 },
 "nbformat": 4,
 "nbformat_minor": 2
}
